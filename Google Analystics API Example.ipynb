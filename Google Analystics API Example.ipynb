{
 "cells": [
  {
   "cell_type": "code",
   "execution_count": 1,
   "metadata": {
    "collapsed": true
   },
   "outputs": [],
   "source": [
    "from apiclient.discovery import build\n",
    "from oauth2client.service_account import ServiceAccountCredentials\n",
    "import os\n",
    "from pandas.io.json import json_normalize\n",
    "import pandas as pd\n",
    "import numpy as np\n",
    "\n",
    "class Reporting():\n",
    "    def __init__(self, gte, lte, view_id):\n",
    "            self.SCOPES = ['https://www.googleapis.com/auth/analytics.readonly']\n",
    "            self.KEY_FILE_LOCATION = '.KEY_FILE_LOCATION'\n",
    "            self.SERVICE_ACCOUNT_EMAIL = 'SERVICE_ACCOUNT_EMAIL'\n",
    "            self.GA_VIEW_ID = view_id\n",
    "            self.gte = gte\n",
    "            self.lte = lte\n",
    "            self.analytics = self.initialize_analyticsreporting()\n",
    "\n",
    "    def initialize_analyticsreporting(self):\n",
    "        credentials = ServiceAccountCredentials.from_json_keyfile_name(self.KEY_FILE_LOCATION, self.SCOPES)\n",
    "        # Build the service object.\n",
    "        analytics = build('analyticsreporting', 'v4', credentials=credentials)\n",
    "        return analytics\n",
    "    \n",
    "    \n",
    "    def get_report(self, analytics):\n",
    "        return analytics.reports().batchGet(\n",
    "            body={\n",
    "                'reportRequests' : [\n",
    "                    {\n",
    "                        'viewId' : self.GA_VIEW_ID,\n",
    "                        #'dateRanges' : [{'ga:yearWeek':self.YearWeek}],\n",
    "                        'dateRanges' : [{'startDate': self.gte, 'endDate': self.lte}],\n",
    "                        'dimensions' : [{'name' : \"ga:productSku\"}],\n",
    "                        \"metrics\" : [{\"expression\" : \"ga:productDetailViews\"},\n",
    "                                     {\"expression\" : \"ga:itemQuantity\"}],\n",
    "                        \"pageSize\" : 10000,\n",
    "                    }]\n",
    "            }\n",
    "        ).execute()\n",
    "\n",
    "\n",
    "def ga2df(gte, lte, view_id):\n",
    "    data_list =[]\n",
    "    r = Reporting(gte, lte, view_id)\n",
    "    analytics = r.analytics\n",
    "    response = r.get_report(analytics)\n",
    "    results = response['reports'][0]['data']['rows']\n",
    "    for i in range(len(results)):\n",
    "        data = {}\n",
    "        result = results[i]\n",
    "        data['page_id'] = result['dimensions'][0]\n",
    "        data['sessions'] = result['metrics'][0]['values'][0]\n",
    "        data['sales'] = result['metrics'][0]['values'][1]\n",
    "        data_list.append(data)\n",
    "    \n",
    "    df = pd.DataFrame()\n",
    "    for i in range(len(data_list)):\n",
    "        data = data_list[i]\n",
    "        data = json_normalize(data)\n",
    "        df  = df.append(data, ignore_index=True)\n",
    "    df = df[['page_id', 'sessions', 'sales']]\n",
    "    df['sessions'] = df['sessions'].astype(int)\n",
    "    df['sales'] = df['sales'].astype(int)\n",
    "    df['cov_ratio'] = np.round(df['sales'] / df['sessions'], 4)\n",
    "    \n",
    "    return df"
   ]
  },
  {
   "cell_type": "code",
   "execution_count": 2,
   "metadata": {},
   "outputs": [
    {
     "data": {
      "text/html": [
       "<div>\n",
       "<style>\n",
       "    .dataframe thead tr:only-child th {\n",
       "        text-align: right;\n",
       "    }\n",
       "\n",
       "    .dataframe thead th {\n",
       "        text-align: left;\n",
       "    }\n",
       "\n",
       "    .dataframe tbody tr th {\n",
       "        vertical-align: top;\n",
       "    }\n",
       "</style>\n",
       "<table border=\"1\" class=\"dataframe\">\n",
       "  <thead>\n",
       "    <tr style=\"text-align: right;\">\n",
       "      <th></th>\n",
       "      <th>page_id</th>\n",
       "      <th>sessions</th>\n",
       "      <th>sales</th>\n",
       "      <th>cov_ratio</th>\n",
       "    </tr>\n",
       "  </thead>\n",
       "  <tbody>\n",
       "    <tr>\n",
       "      <th>103</th>\n",
       "      <td>1938252</td>\n",
       "      <td>2</td>\n",
       "      <td>0</td>\n",
       "      <td>0.0</td>\n",
       "    </tr>\n",
       "    <tr>\n",
       "      <th>824</th>\n",
       "      <td>3597106</td>\n",
       "      <td>3</td>\n",
       "      <td>0</td>\n",
       "      <td>0.0</td>\n",
       "    </tr>\n",
       "  </tbody>\n",
       "</table>\n",
       "</div>"
      ],
      "text/plain": [
       "     page_id  sessions  sales  cov_ratio\n",
       "103  1938252         2      0        0.0\n",
       "824  3597106         3      0        0.0"
      ]
     },
     "execution_count": 2,
     "metadata": {},
     "output_type": "execute_result"
    }
   ],
   "source": [
    "ga2df('2017-11-19', '2017-11-25', 'view_id').sample(2)"
   ]
  }
 ],
 "metadata": {
  "kernelspec": {
   "display_name": "Python 3",
   "language": "python",
   "name": "python3"
  },
  "language_info": {
   "codemirror_mode": {
    "name": "ipython",
    "version": 3
   },
   "file_extension": ".py",
   "mimetype": "text/x-python",
   "name": "python",
   "nbconvert_exporter": "python",
   "pygments_lexer": "ipython3",
   "version": "3.6.2"
  }
 },
 "nbformat": 4,
 "nbformat_minor": 2
}
